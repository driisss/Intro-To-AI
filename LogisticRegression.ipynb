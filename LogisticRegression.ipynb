{
  "nbformat": 4,
  "nbformat_minor": 0,
  "metadata": {
    "colab": {
      "provenance": [],
      "authorship_tag": "ABX9TyMD99CBeZGXEFFC54GH92f1",
      "include_colab_link": true
    },
    "kernelspec": {
      "name": "python3",
      "display_name": "Python 3"
    },
    "language_info": {
      "name": "python"
    }
  },
  "cells": [
    {
      "cell_type": "markdown",
      "metadata": {
        "id": "view-in-github",
        "colab_type": "text"
      },
      "source": [
        "<a href=\"https://colab.research.google.com/github/driisss/Intro-To-AI/blob/main/LogisticRegression.ipynb\" target=\"_parent\"><img src=\"https://colab.research.google.com/assets/colab-badge.svg\" alt=\"Open In Colab\"/></a>"
      ]
    },
    {
      "cell_type": "code",
      "execution_count": 1,
      "metadata": {
        "colab": {
          "base_uri": "https://localhost:8080/"
        },
        "id": "QbaTXlAwdCJA",
        "outputId": "31310035-3519-4026-a7ea-81448e0fad19"
      },
      "outputs": [
        {
          "output_type": "stream",
          "name": "stdout",
          "text": [
            "Intercept: 0.0\n",
            "Confirmed: 0.9999999999999997\n",
            "Deaths: -0.9999999999999984\n",
            "Active: -0.9999999999999996\n",
            "New cases: -6.00908212078366e-15\n",
            "New deaths: 1.7727529513789086e-13\n",
            "Predictions: [14500. 36500.]\n"
          ]
        }
      ],
      "source": [
        "import pandas as pd\n",
        "from sklearn.linear_model import LinearRegression\n",
        "\n",
        "# Select features and target\n",
        "features = ['Confirmed', 'Deaths', 'Active', 'New cases', 'New deaths']\n",
        "target = 'Recovered'\n",
        "\n",
        "# Load the dataset\n",
        "df = pd.read_csv(\"/content/country_wise_latest.csv\")\n",
        "\n",
        "# Drop rows with missing values\n",
        "df = df[features + [target]].dropna()\n",
        "\n",
        "# Train the model\n",
        "X = df[features]\n",
        "y = df[target]\n",
        "model = LinearRegression()\n",
        "model.fit(X, y)\n",
        "\n",
        "# Output beta values\n",
        "print(\"Intercept:\", model.intercept_)\n",
        "for feature, coef in zip(features, model.coef_):\n",
        "    print(f\"{feature}: {coef}\")\n",
        "\n",
        "# Predict sample values\n",
        "sample = pd.DataFrame({\n",
        "    'Confirmed': [20000, 50000],\n",
        "    'Deaths': [500, 1500],\n",
        "    'Active': [5000, 12000],\n",
        "    'New cases': [300, 600],\n",
        "    'New deaths': [10, 20]\n",
        "})\n",
        "\n",
        "predictions = model.predict(sample)\n",
        "print(\"Predictions:\", predictions)\n"
      ]
    }
  ]
}