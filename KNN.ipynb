{
  "nbformat": 4,
  "nbformat_minor": 0,
  "metadata": {
    "colab": {
      "provenance": [],
      "authorship_tag": "ABX9TyOdCXTGJGA6D0PT28uj/wEj",
      "include_colab_link": true
    },
    "kernelspec": {
      "name": "python3",
      "display_name": "Python 3"
    },
    "language_info": {
      "name": "python"
    }
  },
  "cells": [
    {
      "cell_type": "markdown",
      "metadata": {
        "id": "view-in-github",
        "colab_type": "text"
      },
      "source": [
        "<a href=\"https://colab.research.google.com/github/driisss/Intro-To-AI/blob/main/KNN.ipynb\" target=\"_parent\"><img src=\"https://colab.research.google.com/assets/colab-badge.svg\" alt=\"Open In Colab\"/></a>"
      ]
    },
    {
      "cell_type": "code",
      "execution_count": 1,
      "metadata": {
        "colab": {
          "base_uri": "https://localhost:8080/"
        },
        "id": "a6lvxDrTvqpC",
        "outputId": "89997585-6d43-44cc-e479-19cc2fb6afc0"
      },
      "outputs": [
        {
          "output_type": "stream",
          "name": "stdout",
          "text": [
            "   survived  pclass     sex   age  sibsp  parch     fare embarked  class  \\\n",
            "0         0       3    male  22.0      1      0   7.2500        S  Third   \n",
            "1         1       1  female  38.0      1      0  71.2833        C  First   \n",
            "2         1       3  female  26.0      0      0   7.9250        S  Third   \n",
            "3         1       1  female  35.0      1      0  53.1000        S  First   \n",
            "4         0       3    male  35.0      0      0   8.0500        S  Third   \n",
            "\n",
            "     who  adult_male deck  embark_town alive  alone  \n",
            "0    man        True  NaN  Southampton    no  False  \n",
            "1  woman       False    C    Cherbourg   yes  False  \n",
            "2  woman       False  NaN  Southampton   yes   True  \n",
            "3  woman       False    C  Southampton   yes  False  \n",
            "4    man        True  NaN  Southampton    no   True  \n",
            "K=1, Validation Accuracy=0.8182\n",
            "K=2, Validation Accuracy=0.8531\n",
            "K=3, Validation Accuracy=0.8182\n",
            "K=4, Validation Accuracy=0.8392\n",
            "K=5, Validation Accuracy=0.8322\n",
            "K=6, Validation Accuracy=0.8601\n",
            "K=7, Validation Accuracy=0.8182\n",
            "K=8, Validation Accuracy=0.8252\n",
            "K=9, Validation Accuracy=0.8252\n",
            "K=10, Validation Accuracy=0.8182\n",
            "K=11, Validation Accuracy=0.7902\n",
            "\n",
            "Best K value based on validation set: 6\n",
            "\n",
            "Final Test Accuracy: 0.7832167832167832\n",
            "\n",
            "Final Classification Report:\n",
            "               precision    recall  f1-score   support\n",
            "\n",
            "           0       0.80      0.85      0.82        85\n",
            "           1       0.75      0.69      0.72        58\n",
            "\n",
            "    accuracy                           0.78       143\n",
            "   macro avg       0.78      0.77      0.77       143\n",
            "weighted avg       0.78      0.78      0.78       143\n",
            "\n"
          ]
        }
      ],
      "source": [
        "# Step 1: Import libraries\n",
        "import seaborn as sns\n",
        "import pandas as pd\n",
        "from sklearn.model_selection import train_test_split\n",
        "from sklearn.preprocessing import StandardScaler\n",
        "from sklearn.neighbors import KNeighborsClassifier\n",
        "from sklearn.metrics import accuracy_score, classification_report\n",
        "\n",
        "\n",
        "\n",
        "# Load the locally saved Titanic CSV\n",
        "df = pd.read_csv('/content/titanic.csv')\n",
        "\n",
        "# Preview the dataset\n",
        "print(df.head())\n",
        "\n",
        "# Step 3: Preprocess data\n",
        "# Select features and target\n",
        "features = ['pclass', 'sex', 'age', 'fare', 'embarked']\n",
        "df = df[features + ['survived']]\n",
        "\n",
        "# Drop rows with missing values\n",
        "df = df.dropna()\n",
        "\n",
        "# Encode categorical features\n",
        "df['sex'] = df['sex'].map({'male': 0, 'female': 1})\n",
        "df['embarked'] = df['embarked'].map({'S': 0, 'C': 1, 'Q': 2})\n",
        "\n",
        "X = df[features]\n",
        "y = df['survived']\n",
        "\n",
        "# Step 4: Split into training (60%), validation (20%), and testing (20%)\n",
        "X_temp, X_test, y_temp, y_test = train_test_split(X, y, test_size=0.2, random_state=42, stratify=y)\n",
        "X_train, X_val, y_train, y_val = train_test_split(X_temp, y_temp, test_size=0.25, random_state=42, stratify=y_temp)\n",
        "# Now: 60% train, 20% val, 20% test\n",
        "\n",
        "# Step 5: Normalize features\n",
        "scaler = StandardScaler()\n",
        "X_train_scaled = scaler.fit_transform(X_train)\n",
        "X_val_scaled = scaler.transform(X_val)\n",
        "X_test_scaled = scaler.transform(X_test)\n",
        "\n",
        "# Step 6: Find best K using validation data\n",
        "accuracy_list = []\n",
        "for k in range(1, 12):\n",
        "    knn = KNeighborsClassifier(n_neighbors=k)\n",
        "    knn.fit(X_train_scaled, y_train)\n",
        "    y_val_pred = knn.predict(X_val_scaled)\n",
        "    acc = accuracy_score(y_val, y_val_pred)\n",
        "    accuracy_list.append(acc)\n",
        "    print(f\"K={k}, Validation Accuracy={acc:.4f}\")\n",
        "\n",
        "# Step 7: Train final model on train+val with best K\n",
        "best_k = accuracy_list.index(max(accuracy_list)) + 1\n",
        "print(\"\\nBest K value based on validation set:\", best_k)\n",
        "\n",
        "# Combine train and validation sets\n",
        "\n",
        "X_final_train_scaled = scaler.fit_transform(X_train)\n",
        "X_test_scaled = scaler.transform(X_test)\n",
        "\n",
        "# Train final model\n",
        "final_knn = KNeighborsClassifier(n_neighbors=best_k)\n",
        "final_knn.fit(X_final_train_scaled, y_train)\n",
        "\n",
        "\n",
        "# Step 8: Evaluate on test set\n",
        "y_test_pred = final_knn.predict(X_test_scaled)\n",
        "print(\"\\nFinal Test Accuracy:\", accuracy_score(y_test, y_test_pred))\n",
        "print(\"\\nFinal Classification Report:\\n\", classification_report(y_test, y_test_pred))"
      ]
    }
  ]
}